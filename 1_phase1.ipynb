{
 "cells": [
  {
   "cell_type": "markdown",
   "metadata": {},
   "source": [
    "## Numpy array and basics\n",
    "learn about numpy"
   ]
  },
  {
   "cell_type": "code",
   "execution_count": 3,
   "metadata": {},
   "outputs": [],
   "source": [
    "import numpy as np"
   ]
  },
  {
   "cell_type": "markdown",
   "metadata": {},
   "source": [
    "## creating array from list"
   ]
  },
  {
   "cell_type": "code",
   "execution_count": 6,
   "metadata": {},
   "outputs": [
    {
     "name": "stdout",
     "output_type": "stream",
     "text": [
      "1D array : [1 2 3 4 5]\n",
      "2D array : [[1 2 3]\n",
      " [4 5 6]\n",
      " [7 8 9]]\n"
     ]
    }
   ],
   "source": [
    "arr_1d=np.array([1,2,3,4,5])\n",
    "print (\"1D array :\",arr_1d)\n",
    "\n",
    "arr_2d=np.array([[1,2,3],[4,5,6],[7,8,9]])\n",
    "print(\"2D array :\",arr_2d)"
   ]
  },
  {
   "cell_type": "markdown",
   "metadata": {},
   "source": [
    "## list vs numpy array"
   ]
  },
  {
   "cell_type": "code",
   "execution_count": 9,
   "metadata": {},
   "outputs": [
    {
     "name": "stdout",
     "output_type": "stream",
     "text": [
      "python list multiplication : [1, 2, 3, 1, 2, 3]\n",
      "python array multiplication:  [2 4 6]\n"
     ]
    }
   ],
   "source": [
    "py_list=[1,2,3]\n",
    "print (\"python list multiplication :\",py_list *2) #make list double with same [1,2,3,1,2,3]\n",
    "\n",
    "np_array=np.array([1,2,3]) #element wise multiplication\n",
    "print(\"python array multiplication: \",np_array*2)"
   ]
  },
  {
   "cell_type": "code",
   "execution_count": 17,
   "metadata": {},
   "outputs": [
    {
     "name": "stdout",
     "output_type": "stream",
     "text": [
      "\n",
      " List operation time:  1.967919111251831\n",
      "\n",
      " Numpy operation time:  0.10184907913208008\n"
     ]
    }
   ],
   "source": [
    "import time\n",
    "\n",
    "start=time.time()\n",
    "py_list=[i*2 for i in range(10000000)]\n",
    "print (\"\\n List operation time: \",time.time()-start)\n",
    "# print(py_list)\n",
    "\n",
    "start=time.time()\n",
    "np_array=np.arange(10000000)*2\n",
    "print (\"\\n Numpy operation time: \",time.time()-start)\n",
    "# print(np_array)\n",
    "\n"
   ]
  },
  {
   "cell_type": "markdown",
   "metadata": {},
   "source": [
    "## creating array with scratch\n"
   ]
  },
  {
   "cell_type": "code",
   "execution_count": 50,
   "metadata": {},
   "outputs": [
    {
     "name": "stdout",
     "output_type": "stream",
     "text": [
      "zeroes array:\n",
      " [[0. 0. 0. 0.]\n",
      " [0. 0. 0. 0.]\n",
      " [0. 0. 0. 0.]]\n",
      "ones array:\n",
      " [[1. 1. 1. 1.]\n",
      " [1. 1. 1. 1.]\n",
      " [1. 1. 1. 1.]]\n",
      "Array with constant\n",
      " [[7 7]\n",
      " [7 7]]\n",
      "Random array:\n",
      " [[0.37489533 0.62960175]\n",
      " [0.46685857 0.48892313]]\n",
      "print random integer \n",
      " [[52 37 68]\n",
      " [21 63 38]\n",
      " [25 61 84]]\n",
      "print random list\n",
      " [20, 11, 15, 33, 40]\n",
      "print random 2d array\n",
      " [[35, 64, 90], [98, 82, 59], [93, 29, 70]]\n",
      "sequence array:\n",
      " [ 0  2  4  6  8 10]\n"
     ]
    }
   ],
   "source": [
    "import math as m\n",
    "# creating zeroes array\n",
    "zeroes=np.zeros((3,4)) #it will create array with 3 row and 4 col of 0\n",
    "print(\"zeroes array:\\n\",zeroes)\n",
    "\n",
    "#creating ones array\n",
    "ones=np.ones((3,4))\n",
    "print(\"ones array:\\n\",ones)#it will create array with 3 row and 4 col of 1\n",
    "\n",
    "full =np.full((2,2),7) #it will create m*n array with constant \n",
    "print(\"Array with constant\\n\",full)\n",
    "\n",
    "random=np.random.random((2,2)) #it will crate a random array of m*n we have many class for random\n",
    "\n",
    "print (\"Random array:\\n\",random)\n",
    "\n",
    "\n",
    "random_array=np.random.randint(1,100,(3,3)) #print m*n integer in range of 1 to 100\n",
    "print(\"print random integer \\n\",random_array)\n",
    "\n",
    "# Generate a list of 5 random integers between 10 and 50\n",
    "random_list = [np.random.randint(10, 50) for _ in range(5)]\n",
    "print(\"print random list\\n\",random_list)\n",
    "\n",
    "# 3x3 random integer array with values between 1 and 100\n",
    "random_2d_array = [[int(np.random.random() * 100) + 1 for _ in range(3)] for _ in range(3)]\n",
    "print(\"print random 2d array\\n\",random_2d_array)\n",
    "\n",
    "sequence=np.arange(0,11,2)# create array in range 0 to 10 with jumping 2\n",
    "print(\"sequence array:\\n\",sequence)"
   ]
  },
  {
   "cell_type": "markdown",
   "metadata": {},
   "source": [
    "## vector,matrix and tensor\n"
   ]
  },
  {
   "cell_type": "code",
   "execution_count": 5,
   "metadata": {},
   "outputs": [
    {
     "name": "stdout",
     "output_type": "stream",
     "text": [
      "vector:\n",
      " [1 2 3]\n",
      "Matrix:\n",
      " [[1 2 3]\n",
      " [4 5 6]]\n",
      "Tensor:\n",
      " [[[ 1  2  3]\n",
      "  [ 4  5  6]]\n",
      "\n",
      " [[ 7  8  9]\n",
      "  [10 11 12]]]\n"
     ]
    }
   ],
   "source": [
    "vector=np.array([1,2,3])\n",
    "print(\"vector:\\n\",vector)\n",
    "\n",
    "matrix=np.array([[1,2,3],\n",
    "                 [4,5,6]])\n",
    "print(\"Matrix:\\n\",matrix)\n",
    "\n",
    "tensor=np.array([[[1,2,3],[4,5,6]],\n",
    "                 [[7,8,9],[10,11,12]]])\n",
    "\n",
    "print(\"Tensor:\\n\",tensor)"
   ]
  },
  {
   "cell_type": "markdown",
   "metadata": {},
   "source": [
    "## Array properties"
   ]
  },
  {
   "cell_type": "code",
   "execution_count": 8,
   "metadata": {},
   "outputs": [
    {
     "name": "stdout",
     "output_type": "stream",
     "text": [
      "Shape: (2, 3)\n",
      "Dimension  2\n",
      "size  6\n",
      "DataType  int64\n"
     ]
    }
   ],
   "source": [
    "arr=np.array([[1,2,3],\n",
    "              [4,5,6]])\n",
    "\n",
    "print(\"Shape:\",arr.shape)\n",
    "print(\"Dimension \",arr.ndim)\n",
    "print(\"size \",arr.size)\n",
    "print(\"DataType \",arr.dtype)"
   ]
  },
  {
   "cell_type": "markdown",
   "metadata": {},
   "source": [
    "## Array Reshaping\n"
   ]
  },
  {
   "cell_type": "code",
   "execution_count": null,
   "metadata": {},
   "outputs": [
    {
     "name": "stdout",
     "output_type": "stream",
     "text": [
      "original array : [ 0  1  2  3  4  5  6  7  8  9 10 11]\n",
      "Reshaped array:\n",
      " [[ 0  1  2  3]\n",
      " [ 4  5  6  7]\n",
      " [ 8  9 10 11]]\n",
      "flattened array:\n",
      " [ 0  1  2  3  4  5  6  7  8  9 10 11]\n",
      "raveled dim array:\n",
      " [ 0  1  2  3  4  5  6  7  8  9 10 11]\n",
      "Transposed Array:\n",
      " [[ 0  4  8]\n",
      " [ 1  5  9]\n",
      " [ 2  6 10]\n",
      " [ 3  7 11]]\n"
     ]
    }
   ],
   "source": [
    "arr=np.arange(12)\n",
    "print(\"original array :\",arr)\n",
    "\n",
    "reshaped=arr.reshape((3,4))\n",
    "print(\"Reshaped array:\\n\",reshaped)\n",
    "\n",
    "#flatten(reutn copy of original array)\n",
    "flattened=reshaped.flatten()\n",
    "print(\"flattened array:\\n\",flattened)\n",
    "\n",
    "# ravel (return view ,instead of copy)\n",
    "raveled=reshaped.ravel()\n",
    "print(\"raveled dim array:\\n\",flattened)\n",
    "\n",
    "#transpose\n",
    "#In matrices, the transpose of a matrix is obtained by flipping its rows into columns (or vice versa).\n",
    "transpose=reshaped.T\n",
    "print(\"Transposed Array:\\n\",transpose)\n"
   ]
  }
 ],
 "metadata": {
  "kernelspec": {
   "display_name": ".venv",
   "language": "python",
   "name": "python3"
  },
  "language_info": {
   "codemirror_mode": {
    "name": "ipython",
    "version": 3
   },
   "file_extension": ".py",
   "mimetype": "text/x-python",
   "name": "python",
   "nbconvert_exporter": "python",
   "pygments_lexer": "ipython3",
   "version": "3.12.7"
  }
 },
 "nbformat": 4,
 "nbformat_minor": 2
}
