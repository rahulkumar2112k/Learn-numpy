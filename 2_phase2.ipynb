{
 "cells": [
  {
   "cell_type": "markdown",
   "metadata": {},
   "source": [
    "## Numpy Array Operation\n"
   ]
  },
  {
   "cell_type": "code",
   "execution_count": 2,
   "metadata": {},
   "outputs": [],
   "source": [
    "import numpy as np"
   ]
  },
  {
   "cell_type": "code",
   "execution_count": 9,
   "metadata": {},
   "outputs": [
    {
     "name": "stdout",
     "output_type": "stream",
     "text": [
      "Basic Slicing  [3 4 5 6 7]\n",
      "With Step  [2 4 6 8]\n",
      "Negative indexing  8\n"
     ]
    }
   ],
   "source": [
    "arr=np.array([1,2,3,4,5,6,7,8,9,10])\n",
    "print(\"Basic Slicing \",arr[2:7])\n",
    "print(\"With Step \",arr[1:8:2])#every second position\n",
    "print(\"Negative indexing \",arr[-3])"
   ]
  },
  {
   "cell_type": "markdown",
   "metadata": {},
   "source": [
    "## Slicing on 2d Array\n"
   ]
  },
  {
   "cell_type": "code",
   "execution_count": 5,
   "metadata": {},
   "outputs": [
    {
     "name": "stdout",
     "output_type": "stream",
     "text": [
      "Specific element  6\n",
      "Entire row  [4 5 6]\n",
      "Entire column  [3 6 9]\n"
     ]
    }
   ],
   "source": [
    "arr_2d=np.array([[1,2,3],\n",
    "                 [4,5,6],\n",
    "                 [7,8,9]])\n",
    "\n",
    "print (\"Specific element \",arr_2d[1,2])# means 1st row 2nd elemnet\n",
    "print (\"Entire row \",arr_2d[1])#give entire row 1\n",
    "print (\"Entire column \",arr_2d[:,2])# give enire col since [row,col] so [:,1]"
   ]
  },
  {
   "cell_type": "markdown",
   "metadata": {},
   "source": [
    "## sorting"
   ]
  },
  {
   "cell_type": "code",
   "execution_count": 10,
   "metadata": {},
   "outputs": [
    {
     "name": "stdout",
     "output_type": "stream",
     "text": [
      "Sorted Array  [1 1 2 3 4 4 5 8 9]\n",
      "sorted 2d array by column\n",
      " [[1 2 1]\n",
      " [2 3 1]\n",
      " [3 3 2]]\n",
      "sorted 2d array by row\n",
      " [[1 2 3]\n",
      " [1 2 3]\n",
      " [1 2 3]]\n"
     ]
    }
   ],
   "source": [
    "unsorted=np.array([3,1,4,1,5,8,9,2,4])\n",
    "print(\"Sorted Array \",np.sort(unsorted))\n",
    "\n",
    "arr_2d_unsorted=np.array([[3,2,1],[1,3,2],[2,3,1]])\n",
    "print(\"sorted 2d array by column\\n\",np.sort(arr_2d_unsorted,axis=0))# axis =0 for column\n",
    "print(\"sorted 2d array by row\\n\",np.sort(arr_2d_unsorted,axis=1))# axis =1 for row"
   ]
  },
  {
   "cell_type": "markdown",
   "metadata": {},
   "source": [
    "## Filters\n"
   ]
  },
  {
   "cell_type": "code",
   "execution_count": 23,
   "metadata": {},
   "outputs": [
    {
     "name": "stdout",
     "output_type": "stream",
     "text": [
      "Even numbers : [ 2  4  6  8 10]\n"
     ]
    }
   ],
   "source": [
    "numbers=np.array([1,2,3,4,5,6,7,8,9,10])\n",
    "even_number=numbers[numbers % 2  ==0]\n",
    "print(\"Even numbers :\",even_number)\n",
    "\n"
   ]
  },
  {
   "cell_type": "markdown",
   "metadata": {},
   "source": [
    "## Filter by mask"
   ]
  },
  {
   "cell_type": "code",
   "execution_count": 24,
   "metadata": {},
   "outputs": [
    {
     "name": "stdout",
     "output_type": "stream",
     "text": [
      "Number greater than 5  [ 6  7  8  9 10]\n"
     ]
    }
   ],
   "source": [
    "mask=numbers > 5  # holds whole expression\n",
    "print(\"Number greater than 5 \",numbers[mask])"
   ]
  },
  {
   "cell_type": "markdown",
   "metadata": {},
   "source": [
    "## fancy indexing vs np.where ()\n",
    "✅ np.where() creates a new array and does not modify the original array.  \n",
    "✅ The result will always have the same shape as the original array.  \n",
    "✅ The syntax is: np.where(condition, value_if_true, value_if_false)  \n",
    "It works element-wise, applying conditions to each element.  \n",
    "It’s efficient and commonly used for conditional logic in NumPy arrays.  "
   ]
  },
  {
   "cell_type": "code",
   "execution_count": 28,
   "metadata": {},
   "outputs": [
    {
     "name": "stdout",
     "output_type": "stream",
     "text": [
      "[1 3 4 6]\n",
      "NP Where  [ 6  7  8  9 10]\n"
     ]
    }
   ],
   "source": [
    "index=[0,2,3,5]\n",
    "print(numbers[index]) # 1 3 4 6 from numbers array\n",
    "\n",
    "\n",
    "where_result=np.where(numbers > 5) # array ka index store ho jata hai conditon ke anusar \n",
    "#print(where_result)#(array([5, 6, 7, 8, 9]),) #index jo 5 se bada ha numbers me\n",
    "#np.where vi array create karta hai condition ke sath\n",
    "\n",
    "print (\"NP Where \",numbers[where_result])\n",
    " "
   ]
  },
  {
   "cell_type": "code",
   "execution_count": 29,
   "metadata": {},
   "outputs": [
    {
     "name": "stdout",
     "output_type": "stream",
     "text": [
      "[ 1  2  3  4  5 24 28 32 36 40]\n",
      "['false' 'false' 'false' 'false' 'false' 'true' 'true' 'true' 'true'\n",
      " 'true']\n"
     ]
    }
   ],
   "source": [
    "condition_array=np.where(numbers >5 ,numbers*4,numbers) #numbers array me jo val 5 se bada hoga usme val*4 ho jaye ga nahi to val\n",
    "print(condition_array)  #np.where() creates a new array and does not modify the original array.\n",
    "condition_array=np.where(numbers >5 ,\"true\",\"false\") #numbers array me jo val 5 se bada hoga usme ture anhi to false \n",
    "print(condition_array)"
   ]
  },
  {
   "cell_type": "markdown",
   "metadata": {},
   "source": [
    "## Adding and removing data"
   ]
  },
  {
   "cell_type": "code",
   "execution_count": 31,
   "metadata": {},
   "outputs": [
    {
     "name": "stdout",
     "output_type": "stream",
     "text": [
      "Merged array :  [1 2 3 4 5 6]\n"
     ]
    }
   ],
   "source": [
    "arr1=np.array([1,2,3])\n",
    "arr2=np.array([4,5,6])\n",
    "\n",
    "merge=np.concatenate((arr1,arr2))\n",
    "print (\"Merged array : \",merge)"
   ]
  },
  {
   "cell_type": "markdown",
   "metadata": {},
   "source": [
    "### array Compatability"
   ]
  },
  {
   "cell_type": "code",
   "execution_count": 34,
   "metadata": {},
   "outputs": [
    {
     "name": "stdout",
     "output_type": "stream",
     "text": [
      "Compatibilty shapes  True\n",
      "Compatibilty shapes  False\n"
     ]
    }
   ],
   "source": [
    "arr1=np.array([1,2,3])\n",
    "arr2=np.array([3,4,5])\n",
    "arr3=np.array([1,2,3,6])\n",
    "\n",
    "print(\"Compatibilty shapes \",arr1.shape ==arr2.shape)\n",
    "print(\"Compatibilty shapes \",arr2.shape ==arr3.shape)"
   ]
  },
  {
   "cell_type": "markdown",
   "metadata": {},
   "source": [
    "### vstack() and hstack() \n",
    "✅ vstack() added one more row to the original array.  \n",
    "\n",
    "✅ hstack() added one more column to the original array.  \n"
   ]
  },
  {
   "cell_type": "code",
   "execution_count": null,
   "metadata": {},
   "outputs": [
    {
     "name": "stdout",
     "output_type": "stream",
     "text": [
      "Array with new row \n",
      " [[1 2]\n",
      " [3 4]\n",
      " [4 5]\n",
      " [5 6]]\n",
      "Array with new row \n",
      " [[1 2 6]\n",
      " [3 4 7]\n",
      " [4 5 8]]\n"
     ]
    }
   ],
   "source": [
    "original=([[1,2],[3,4],[4,5]])\n",
    "new_row=np.array([[5,6]])\n",
    "\n",
    "with_new_row=np.vstack((original,new_row))\n",
    "print(\"Array with new row \\n\",with_new_row)\n",
    "\n",
    "new_col=np.array([[6],[7],[8]])\n",
    "with_new_col=np.hstack((original ,new_col))\n",
    "print(\"Array with new column \\n\",with_new_col)"
   ]
  },
  {
   "cell_type": "markdown",
   "metadata": {},
   "source": [
    "## np.delete()\n",
    "✅ np.delete() always returns a new array.  \n",
    "✅ The original array remains unchanged.  \n",
    "✅ The syntax is:  np.delete(array, index, axis)  \n",
    "\n"
   ]
  },
  {
   "cell_type": "code",
   "execution_count": null,
   "metadata": {},
   "outputs": [
    {
     "name": "stdout",
     "output_type": "stream",
     "text": [
      "Array after deletion: [1 2 4 5]\n",
      "delete col 1\n",
      " [[1 3]\n",
      " [4 6]]\n",
      "delete  row 1\n",
      " [[1 2 3]]\n"
     ]
    }
   ],
   "source": [
    "arr=np.array ([1,2,3,4,5])\n",
    "delete = np.delete (arr,2)# delete index 2 element and give new array after delete\n",
    "print (\"Array after deletion:\",delete)  \n",
    "\n",
    "arr2D = np.array([[1, 2, 3], \n",
    "                  [4, 5, 6]])\n",
    "\n",
    "# Delete column 1\n",
    "result = np.delete(arr2D, 1, axis=1) # delete col \n",
    "\n",
    "print(\"delete col 1\\n\",result)\n",
    "\n",
    "result2 = np.delete(arr2D, 1, axis=0) # del row\n",
    "\n",
    "print(\"delete  row 1\\n\",result2)\n"
   ]
  }
 ],
 "metadata": {
  "kernelspec": {
   "display_name": ".venv",
   "language": "python",
   "name": "python3"
  },
  "language_info": {
   "codemirror_mode": {
    "name": "ipython",
    "version": 3
   },
   "file_extension": ".py",
   "mimetype": "text/x-python",
   "name": "python",
   "nbconvert_exporter": "python",
   "pygments_lexer": "ipython3",
   "version": "3.12.7"
  }
 },
 "nbformat": 4,
 "nbformat_minor": 2
}
